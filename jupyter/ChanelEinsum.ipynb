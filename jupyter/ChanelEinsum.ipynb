{
 "cells": [
  {
   "cell_type": "code",
   "execution_count": 1,
   "id": "a9fb6d67",
   "metadata": {},
   "outputs": [],
   "source": [
    "import numpy\n",
    "import qubit_matmul\n",
    "from matplotlib import pyplot\n",
    "from scipy.stats import unitary_group"
   ]
  },
  {
   "cell_type": "markdown",
   "id": "6e309bb2",
   "metadata": {},
   "source": [
    "# Single Qubit\n",
    "\n",
    "Let $|\\rho\\rangle = \\rho_{ij} |{ij}\\rangle$\n",
    "\n",
    "Channel is from $\\langle b |\\langle b | \\hat{T} |\\rho\\rangle | \\cdot \\rangle$\n",
    "\n",
    "Lets get $\\hat{T} = \\int dU U \\otimes U^*$"
   ]
  },
  {
   "cell_type": "code",
   "execution_count": 2,
   "id": "e546b4f9",
   "metadata": {},
   "outputs": [],
   "source": [
    "def get_t(k=1,iters=100000, real=True):\n",
    "    t = numpy.zeros((2**(2*k),2**(2*k)), dtype=numpy.complex128)\n",
    "    for _ in range(iters):\n",
    "        u = unitary_group.rvs(2)\n",
    "        acc = numpy.kron(u, numpy.conjugate(u))\n",
    "        for _ in range(k-1):\n",
    "            acc = numpy.kron(acc, numpy.kron(u, numpy.conjugate(u)))\n",
    "        t += acc\n",
    "    t /= iters\n",
    "    if real:\n",
    "        t = t.real\n",
    "    return t"
   ]
  },
  {
   "cell_type": "code",
   "execution_count": 3,
   "id": "add6ee1c",
   "metadata": {},
   "outputs": [],
   "source": [
    "qubit_t = get_t(k=2)"
   ]
  },
  {
   "cell_type": "code",
   "execution_count": 4,
   "id": "355e06f1",
   "metadata": {},
   "outputs": [
    {
     "data": {
      "image/png": "[encoded data removed]",
      "text/plain": [
       "<Figure size 640x480 with 2 Axes>"
      ]
     },
     "metadata": {},
     "output_type": "display_data"
    }
   ],
   "source": [
    "# qubit_t[qubit_t<1e-3] = 0\n",
    "qubit_t\n",
    "pyplot.imshow(qubit_t)\n",
    "pyplot.colorbar()\n",
    "pyplot.show()"
   ]
  },
  {
   "cell_type": "code",
   "execution_count": 10,
   "id": "4e9995cd",
   "metadata": {},
   "outputs": [
    {
     "data": {
      "text/plain": [
       "(-0.166370555454514, 0.33462039091473356)"
      ]
     },
     "execution_count": 10,
     "metadata": {},
     "output_type": "execute_result"
    }
   ],
   "source": [
    "qubit_t.min(), qubit_t.max()"
   ]
  },
  {
   "cell_type": "code",
   "execution_count": 5,
   "id": "44cd556c",
   "metadata": {},
   "outputs": [
    {
     "data": {
      "text/plain": [
       "array([[  0,   1,   2,   3,   4,   5,   6,   7,   8,   9,  10,  11,  12,\n",
       "         13,  14,  15],\n",
       "       [ 16,  17,  18,  19,  20,  21,  22,  23,  24,  25,  26,  27,  28,\n",
       "         29,  30,  31],\n",
       "       [ 32,  33,  34,  35,  36,  37,  38,  39,  40,  41,  42,  43,  44,\n",
       "         45,  46,  47],\n",
       "       [ 48,  49,  50,  51,  52,  53,  54,  55,  56,  57,  58,  59,  60,\n",
       "         61,  62,  63],\n",
       "       [ 64,  65,  66,  67,  68,  69,  70,  71,  72,  73,  74,  75,  76,\n",
       "         77,  78,  79],\n",
       "       [ 80,  81,  82,  83,  84,  85,  86,  87,  88,  89,  90,  91,  92,\n",
       "         93,  94,  95],\n",
       "       [ 96,  97,  98,  99, 100, 101, 102, 103, 104, 105, 106, 107, 108,\n",
       "        109, 110, 111],\n",
       "       [112, 113, 114, 115, 116, 117, 118, 119, 120, 121, 122, 123, 124,\n",
       "        125, 126, 127],\n",
       "       [128, 129, 130, 131, 132, 133, 134, 135, 136, 137, 138, 139, 140,\n",
       "        141, 142, 143],\n",
       "       [144, 145, 146, 147, 148, 149, 150, 151, 152, 153, 154, 155, 156,\n",
       "        157, 158, 159],\n",
       "       [160, 161, 162, 163, 164, 165, 166, 167, 168, 169, 170, 171, 172,\n",
       "        173, 174, 175],\n",
       "       [176, 177, 178, 179, 180, 181, 182, 183, 184, 185, 186, 187, 188,\n",
       "        189, 190, 191],\n",
       "       [192, 193, 194, 195, 196, 197, 198, 199, 200, 201, 202, 203, 204,\n",
       "        205, 206, 207],\n",
       "       [208, 209, 210, 211, 212, 213, 214, 215, 216, 217, 218, 219, 220,\n",
       "        221, 222, 223],\n",
       "       [224, 225, 226, 227, 228, 229, 230, 231, 232, 233, 234, 235, 236,\n",
       "        237, 238, 239],\n",
       "       [240, 241, 242, 243, 244, 245, 246, 247, 248, 249, 250, 251, 252,\n",
       "        253, 254, 255]])"
      ]
     },
     "execution_count": 5,
     "metadata": {},
     "output_type": "execute_result"
    }
   ],
   "source": [
    "numpy.arange(numpy.prod(qubit_t.shape)).reshape(qubit_t.shape)"
   ]
  },
  {
   "cell_type": "code",
   "execution_count": 6,
   "id": "945ad327",
   "metadata": {},
   "outputs": [
    {
     "name": "stdout",
     "output_type": "stream",
     "text": [
      "(0, 0, 0, 0, 0, 0, 0, 0)\t0.332638498176237\n",
      "(0, 0, 0, 0, 0, 0, 0, 1)\t0.0006873279457801529\n",
      "(0, 0, 0, 0, 0, 0, 1, 0)\t0.0006873279457801529\n",
      "(0, 0, 0, 0, 0, 0, 1, 1)\t0.166370555454514\n",
      "(0, 0, 0, 0, 0, 1, 0, 0)\t0.0006873279457801529\n",
      "(0, 0, 0, 0, 0, 1, 0, 1)\t-0.00020479619994894372\n",
      "(0, 0, 0, 0, 0, 1, 1, 0)\t0.16637055545451404\n",
      "(0, 0, 0, 0, 0, 1, 1, 1)\t1.8647237734869642e-05\n",
      "(0, 0, 0, 0, 1, 0, 0, 0)\t0.0006873279457801529\n",
      "(0, 0, 0, 0, 1, 0, 0, 1)\t0.16637055545451404\n",
      "(0, 0, 0, 0, 1, 0, 1, 0)\t-0.00020479619994894372\n",
      "(0, 0, 0, 0, 1, 0, 1, 1)\t1.8647237734869642e-05\n",
      "(0, 0, 0, 0, 1, 1, 0, 0)\t0.166370555454514\n",
      "(0, 0, 0, 0, 1, 1, 0, 1)\t1.8647237734869642e-05\n",
      "(0, 0, 0, 0, 1, 1, 1, 0)\t1.8647237734869642e-05\n",
      "(0, 0, 0, 0, 1, 1, 1, 1)\t0.33462039091473356\n",
      "(0, 0, 0, 1, 0, 0, 0, 0)\t0.00023505856176238882\n",
      "(0, 0, 0, 1, 0, 0, 0, 1)\t-0.00042856235323608454\n",
      "(0, 0, 0, 1, 0, 0, 1, 0)\t-0.0006878997594669208\n",
      "(0, 0, 0, 1, 0, 0, 1, 1)\t-0.00023505856176238803\n",
      "(0, 0, 0, 1, 0, 1, 0, 0)\t0.0004627371779594771\n",
      "(0, 0, 0, 1, 0, 1, 0, 1)\t0.00038608096304120556\n",
      "(0, 0, 0, 1, 0, 1, 1, 0)\t0.00016119440659544758\n",
      "(0, 0, 0, 1, 0, 1, 1, 1)\t-0.0004627371779594769\n",
      "(0, 0, 0, 1, 1, 0, 0, 0)\t-0.0006878997594669211\n",
      "(0, 0, 0, 1, 1, 0, 0, 1)\t-0.00023505856176238686\n",
      "(0, 0, 0, 1, 1, 0, 1, 0)\t-0.0004732091983703803\n",
      "(0, 0, 0, 1, 1, 0, 1, 1)\t0.0006878997594669208\n",
      "(0, 0, 0, 1, 1, 1, 0, 0)\t0.00016119440659544706\n",
      "(0, 0, 0, 1, 1, 1, 0, 1)\t-0.000462737177959478\n",
      "(0, 0, 0, 1, 1, 1, 1, 0)\t-0.0003448095394254401\n",
      "(0, 0, 0, 1, 1, 1, 1, 1)\t-0.0001611944065954468\n",
      "(0, 0, 1, 0, 0, 0, 0, 0)\t0.00023505856176238882\n",
      "(0, 0, 1, 0, 0, 0, 0, 1)\t-0.0006878997594669208\n",
      "(0, 0, 1, 0, 0, 0, 1, 0)\t-0.00042856235323608454\n",
      "(0, 0, 1, 0, 0, 0, 1, 1)\t-0.00023505856176238803\n",
      "(0, 0, 1, 0, 0, 1, 0, 0)\t-0.0006878997594669211\n",
      "(0, 0, 1, 0, 0, 1, 0, 1)\t-0.0004732091983703803\n",
      "(0, 0, 1, 0, 0, 1, 1, 0)\t-0.00023505856176238686\n",
      "(0, 0, 1, 0, 0, 1, 1, 1)\t0.0006878997594669208\n",
      "(0, 0, 1, 0, 1, 0, 0, 0)\t0.0004627371779594771\n",
      "(0, 0, 1, 0, 1, 0, 0, 1)\t0.00016119440659544758\n",
      "(0, 0, 1, 0, 1, 0, 1, 0)\t0.00038608096304120556\n",
      "(0, 0, 1, 0, 1, 0, 1, 1)\t-0.0004627371779594769\n",
      "(0, 0, 1, 0, 1, 1, 0, 0)\t0.00016119440659544706\n",
      "(0, 0, 1, 0, 1, 1, 0, 1)\t-0.0003448095394254401\n",
      "(0, 0, 1, 0, 1, 1, 1, 0)\t-0.000462737177959478\n",
      "(0, 0, 1, 0, 1, 1, 1, 1)\t-0.0001611944065954468\n",
      "(0, 0, 1, 1, 0, 0, 0, 0)\t0.166370555454514\n",
      "(0, 0, 1, 1, 0, 0, 0, 1)\t-0.0006873279457801528\n",
      "(0, 0, 1, 1, 0, 0, 1, 0)\t-0.0006873279457801528\n",
      "(0, 0, 1, 1, 0, 0, 1, 1)\t0.3326384981762371\n",
      "(0, 0, 1, 1, 0, 1, 0, 0)\t1.864723773487033e-05\n",
      "(0, 0, 1, 1, 0, 1, 0, 1)\t0.00020479619994894361\n",
      "(0, 0, 1, 1, 0, 1, 1, 0)\t-0.166370555454514\n",
      "(0, 0, 1, 1, 0, 1, 1, 1)\t0.0006873279457801465\n",
      "(0, 0, 1, 1, 1, 0, 0, 0)\t1.864723773487033e-05\n",
      "(0, 0, 1, 1, 1, 0, 0, 1)\t-0.166370555454514\n",
      "(0, 0, 1, 1, 1, 0, 1, 0)\t0.00020479619994894361\n",
      "(0, 0, 1, 1, 1, 0, 1, 1)\t0.0006873279457801465\n",
      "(0, 0, 1, 1, 1, 1, 0, 0)\t0.33462039091473356\n",
      "(0, 0, 1, 1, 1, 1, 0, 1)\t-1.8647237734870208e-05\n",
      "(0, 0, 1, 1, 1, 1, 1, 0)\t-1.8647237734870208e-05\n",
      "(0, 0, 1, 1, 1, 1, 1, 1)\t0.166370555454514\n",
      "(0, 1, 0, 0, 0, 0, 0, 0)\t0.00023505856176238882\n",
      "(0, 1, 0, 0, 0, 0, 0, 1)\t0.0004627371779594771\n",
      "(0, 1, 0, 0, 0, 0, 1, 0)\t-0.0006878997594669211\n",
      "(0, 1, 0, 0, 0, 0, 1, 1)\t0.00016119440659544706\n",
      "(0, 1, 0, 0, 0, 1, 0, 0)\t-0.00042856235323608454\n",
      "(0, 1, 0, 0, 0, 1, 0, 1)\t0.00038608096304120556\n",
      "(0, 1, 0, 0, 0, 1, 1, 0)\t-0.00023505856176238686\n",
      "(0, 1, 0, 0, 0, 1, 1, 1)\t-0.000462737177959478\n",
      "(0, 1, 0, 0, 1, 0, 0, 0)\t-0.0006878997594669208\n",
      "(0, 1, 0, 0, 1, 0, 0, 1)\t0.00016119440659544758\n",
      "(0, 1, 0, 0, 1, 0, 1, 0)\t-0.0004732091983703803\n",
      "(0, 1, 0, 0, 1, 0, 1, 1)\t-0.0003448095394254401\n",
      "(0, 1, 0, 0, 1, 1, 0, 0)\t-0.00023505856176238803\n",
      "(0, 1, 0, 0, 1, 1, 0, 1)\t-0.0004627371779594769\n",
      "(0, 1, 0, 0, 1, 1, 1, 0)\t0.0006878997594669208\n",
      "(0, 1, 0, 0, 1, 1, 1, 1)\t-0.0001611944065954468\n",
      "(0, 1, 0, 1, 0, 0, 0, 0)\t4.165955623784769e-05\n",
      "(0, 1, 0, 1, 0, 0, 0, 1)\t0.0009588441710331215\n",
      "(0, 1, 0, 1, 0, 0, 1, 0)\t-7.26194701746674e-05\n",
      "(0, 1, 0, 1, 0, 0, 1, 1)\t-4.1659556237847946e-05\n",
      "(0, 1, 0, 1, 0, 1, 0, 0)\t0.0009588441710331215\n",
      "(0, 1, 0, 1, 0, 1, 0, 1)\t-0.0007390679339211987\n",
      "(0, 1, 0, 1, 0, 1, 1, 0)\t-4.16595562378471e-05\n",
      "(0, 1, 0, 1, 0, 1, 1, 1)\t-0.000958844171033119\n",
      "(0, 1, 0, 1, 1, 0, 0, 0)\t-7.26194701746674e-05\n",
      "(0, 1, 0, 1, 1, 0, 0, 1)\t-4.16595562378471e-05\n",
      "(0, 1, 0, 1, 1, 0, 1, 0)\t0.0024631156985596733\n",
      "(0, 1, 0, 1, 1, 0, 1, 1)\t7.261947017466872e-05\n",
      "(0, 1, 0, 1, 1, 1, 0, 0)\t-4.1659556237847946e-05\n",
      "(0, 1, 0, 1, 1, 1, 0, 1)\t-0.000958844171033119\n",
      "(0, 1, 0, 1, 1, 1, 1, 0)\t7.261947017466872e-05\n",
      "(0, 1, 0, 1, 1, 1, 1, 1)\t4.165955623784675e-05\n",
      "(0, 1, 1, 0, 0, 0, 0, 0)\t0.166370555454514\n",
      "(0, 1, 1, 0, 0, 0, 0, 1)\t1.864723773487001e-05\n",
      "(0, 1, 1, 0, 0, 0, 1, 0)\t-0.0006873279457801524\n",
      "(0, 1, 1, 0, 0, 0, 1, 1)\t-0.166370555454514\n",
      "(0, 1, 1, 0, 0, 1, 0, 0)\t-0.0006873279457801524\n",
      "(0, 1, 1, 0, 0, 1, 0, 1)\t0.00020479619994894416\n",
      "(0, 1, 1, 0, 0, 1, 1, 0)\t0.3326384981762371\n",
      "(0, 1, 1, 0, 0, 1, 1, 1)\t0.0006873279457801483\n",
      "(0, 1, 1, 0, 1, 0, 0, 0)\t1.864723773487001e-05\n",
      "(0, 1, 1, 0, 1, 0, 0, 1)\t0.33462039091473356\n",
      "(0, 1, 1, 0, 1, 0, 1, 0)\t0.00020479619994894416\n",
      "(0, 1, 1, 0, 1, 0, 1, 1)\t-1.86472377348692e-05\n",
      "(0, 1, 1, 0, 1, 1, 0, 0)\t-0.166370555454514\n",
      "(0, 1, 1, 0, 1, 1, 0, 1)\t-1.86472377348692e-05\n",
      "(0, 1, 1, 0, 1, 1, 1, 0)\t0.0006873279457801483\n",
      "(0, 1, 1, 0, 1, 1, 1, 1)\t0.166370555454514\n",
      "(0, 1, 1, 1, 0, 0, 0, 0)\t0.00016119440659544641\n",
      "(0, 1, 1, 1, 0, 0, 0, 1)\t-0.0004627371779594782\n",
      "(0, 1, 1, 1, 0, 0, 1, 0)\t0.0006878997594669234\n",
      "(0, 1, 1, 1, 0, 0, 1, 1)\t0.0002350585617623884\n",
      "(0, 1, 1, 1, 0, 1, 0, 0)\t-0.0004627371779594775\n",
      "(0, 1, 1, 1, 0, 1, 0, 1)\t-0.0003860809630412067\n",
      "(0, 1, 1, 1, 0, 1, 1, 0)\t0.00023505856176238779\n",
      "(0, 1, 1, 1, 0, 1, 1, 1)\t-0.0004285623532360848\n",
      "(0, 1, 1, 1, 1, 0, 0, 0)\t-0.0003448095394254426\n",
      "(0, 1, 1, 1, 1, 0, 0, 1)\t-0.00016119440659544758\n",
      "(0, 1, 1, 1, 1, 0, 1, 0)\t0.00047320919837038163\n",
      "(0, 1, 1, 1, 1, 0, 1, 1)\t-0.0006878997594669227\n",
      "(0, 1, 1, 1, 1, 1, 0, 0)\t-0.00016119440659544617\n",
      "(0, 1, 1, 1, 1, 1, 0, 1)\t0.0004627371779594782\n",
      "(0, 1, 1, 1, 1, 1, 1, 0)\t-0.0006878997594669233\n",
      "(0, 1, 1, 1, 1, 1, 1, 1)\t-0.0002350585617623886\n",
      "(1, 0, 0, 0, 0, 0, 0, 0)\t0.00023505856176238882\n",
      "(1, 0, 0, 0, 0, 0, 0, 1)\t-0.0006878997594669211\n",
      "(1, 0, 0, 0, 0, 0, 1, 0)\t0.0004627371779594771\n",
      "(1, 0, 0, 0, 0, 0, 1, 1)\t0.00016119440659544706\n",
      "(1, 0, 0, 0, 0, 1, 0, 0)\t-0.0006878997594669208\n",
      "(1, 0, 0, 0, 0, 1, 0, 1)\t-0.0004732091983703803\n",
      "(1, 0, 0, 0, 0, 1, 1, 0)\t0.00016119440659544758\n",
      "(1, 0, 0, 0, 0, 1, 1, 1)\t-0.0003448095394254401\n",
      "(1, 0, 0, 0, 1, 0, 0, 0)\t-0.00042856235323608454\n",
      "(1, 0, 0, 0, 1, 0, 0, 1)\t-0.00023505856176238686\n",
      "(1, 0, 0, 0, 1, 0, 1, 0)\t0.00038608096304120556\n",
      "(1, 0, 0, 0, 1, 0, 1, 1)\t-0.000462737177959478\n",
      "(1, 0, 0, 0, 1, 1, 0, 0)\t-0.00023505856176238803\n",
      "(1, 0, 0, 0, 1, 1, 0, 1)\t0.0006878997594669208\n",
      "(1, 0, 0, 0, 1, 1, 1, 0)\t-0.0004627371779594769\n",
      "(1, 0, 0, 0, 1, 1, 1, 1)\t-0.0001611944065954468\n",
      "(1, 0, 0, 1, 0, 0, 0, 0)\t0.166370555454514\n",
      "(1, 0, 0, 1, 0, 0, 0, 1)\t-0.0006873279457801524\n",
      "(1, 0, 0, 1, 0, 0, 1, 0)\t1.864723773487001e-05\n",
      "(1, 0, 0, 1, 0, 0, 1, 1)\t-0.166370555454514\n",
      "(1, 0, 0, 1, 0, 1, 0, 0)\t1.864723773487001e-05\n",
      "(1, 0, 0, 1, 0, 1, 0, 1)\t0.00020479619994894416\n",
      "(1, 0, 0, 1, 0, 1, 1, 0)\t0.33462039091473356\n",
      "(1, 0, 0, 1, 0, 1, 1, 1)\t-1.86472377348692e-05\n",
      "(1, 0, 0, 1, 1, 0, 0, 0)\t-0.0006873279457801524\n",
      "(1, 0, 0, 1, 1, 0, 0, 1)\t0.3326384981762371\n",
      "(1, 0, 0, 1, 1, 0, 1, 0)\t0.00020479619994894416\n",
      "(1, 0, 0, 1, 1, 0, 1, 1)\t0.0006873279457801483\n",
      "(1, 0, 0, 1, 1, 1, 0, 0)\t-0.166370555454514\n",
      "(1, 0, 0, 1, 1, 1, 0, 1)\t0.0006873279457801483\n",
      "(1, 0, 0, 1, 1, 1, 1, 0)\t-1.86472377348692e-05\n",
      "(1, 0, 0, 1, 1, 1, 1, 1)\t0.166370555454514\n",
      "(1, 0, 1, 0, 0, 0, 0, 0)\t4.165955623784769e-05\n",
      "(1, 0, 1, 0, 0, 0, 0, 1)\t-7.26194701746674e-05\n",
      "(1, 0, 1, 0, 0, 0, 1, 0)\t0.0009588441710331215\n",
      "(1, 0, 1, 0, 0, 0, 1, 1)\t-4.1659556237847946e-05\n",
      "(1, 0, 1, 0, 0, 1, 0, 0)\t-7.26194701746674e-05\n",
      "(1, 0, 1, 0, 0, 1, 0, 1)\t0.0024631156985596733\n",
      "(1, 0, 1, 0, 0, 1, 1, 0)\t-4.16595562378471e-05\n",
      "(1, 0, 1, 0, 0, 1, 1, 1)\t7.261947017466872e-05\n",
      "(1, 0, 1, 0, 1, 0, 0, 0)\t0.0009588441710331215\n",
      "(1, 0, 1, 0, 1, 0, 0, 1)\t-4.16595562378471e-05\n",
      "(1, 0, 1, 0, 1, 0, 1, 0)\t-0.0007390679339211987\n",
      "(1, 0, 1, 0, 1, 0, 1, 1)\t-0.000958844171033119\n",
      "(1, 0, 1, 0, 1, 1, 0, 0)\t-4.1659556237847946e-05\n",
      "(1, 0, 1, 0, 1, 1, 0, 1)\t7.261947017466872e-05\n",
      "(1, 0, 1, 0, 1, 1, 1, 0)\t-0.000958844171033119\n",
      "(1, 0, 1, 0, 1, 1, 1, 1)\t4.165955623784675e-05\n",
      "(1, 0, 1, 1, 0, 0, 0, 0)\t0.00016119440659544641\n",
      "(1, 0, 1, 1, 0, 0, 0, 1)\t0.0006878997594669234\n",
      "(1, 0, 1, 1, 0, 0, 1, 0)\t-0.0004627371779594782\n",
      "(1, 0, 1, 1, 0, 0, 1, 1)\t0.0002350585617623884\n",
      "(1, 0, 1, 1, 0, 1, 0, 0)\t-0.0003448095394254426\n",
      "(1, 0, 1, 1, 0, 1, 0, 1)\t0.00047320919837038163\n",
      "(1, 0, 1, 1, 0, 1, 1, 0)\t-0.00016119440659544758\n",
      "(1, 0, 1, 1, 0, 1, 1, 1)\t-0.0006878997594669227\n",
      "(1, 0, 1, 1, 1, 0, 0, 0)\t-0.0004627371779594775\n",
      "(1, 0, 1, 1, 1, 0, 0, 1)\t0.00023505856176238779\n",
      "(1, 0, 1, 1, 1, 0, 1, 0)\t-0.0003860809630412067\n",
      "(1, 0, 1, 1, 1, 0, 1, 1)\t-0.0004285623532360848\n",
      "(1, 0, 1, 1, 1, 1, 0, 0)\t-0.00016119440659544617\n",
      "(1, 0, 1, 1, 1, 1, 0, 1)\t-0.0006878997594669233\n",
      "(1, 0, 1, 1, 1, 1, 1, 0)\t0.0004627371779594782\n",
      "(1, 0, 1, 1, 1, 1, 1, 1)\t-0.0002350585617623886\n",
      "(1, 1, 0, 0, 0, 0, 0, 0)\t0.166370555454514\n",
      "(1, 1, 0, 0, 0, 0, 0, 1)\t1.864723773487033e-05\n",
      "(1, 1, 0, 0, 0, 0, 1, 0)\t1.864723773487033e-05\n",
      "(1, 1, 0, 0, 0, 0, 1, 1)\t0.33462039091473356\n",
      "(1, 1, 0, 0, 0, 1, 0, 0)\t-0.0006873279457801528\n",
      "(1, 1, 0, 0, 0, 1, 0, 1)\t0.00020479619994894361\n",
      "(1, 1, 0, 0, 0, 1, 1, 0)\t-0.166370555454514\n",
      "(1, 1, 0, 0, 0, 1, 1, 1)\t-1.8647237734870208e-05\n",
      "(1, 1, 0, 0, 1, 0, 0, 0)\t-0.0006873279457801528\n",
      "(1, 1, 0, 0, 1, 0, 0, 1)\t-0.166370555454514\n",
      "(1, 1, 0, 0, 1, 0, 1, 0)\t0.00020479619994894361\n",
      "(1, 1, 0, 0, 1, 0, 1, 1)\t-1.8647237734870208e-05\n",
      "(1, 1, 0, 0, 1, 1, 0, 0)\t0.3326384981762371\n",
      "(1, 1, 0, 0, 1, 1, 0, 1)\t0.0006873279457801465\n",
      "(1, 1, 0, 0, 1, 1, 1, 0)\t0.0006873279457801465\n",
      "(1, 1, 0, 0, 1, 1, 1, 1)\t0.166370555454514\n",
      "(1, 1, 0, 1, 0, 0, 0, 0)\t0.00016119440659544641\n",
      "(1, 1, 0, 1, 0, 0, 0, 1)\t-0.0004627371779594775\n",
      "(1, 1, 0, 1, 0, 0, 1, 0)\t-0.0003448095394254426\n",
      "(1, 1, 0, 1, 0, 0, 1, 1)\t-0.00016119440659544617\n",
      "(1, 1, 0, 1, 0, 1, 0, 0)\t-0.0004627371779594782\n",
      "(1, 1, 0, 1, 0, 1, 0, 1)\t-0.0003860809630412067\n",
      "(1, 1, 0, 1, 0, 1, 1, 0)\t-0.00016119440659544758\n",
      "(1, 1, 0, 1, 0, 1, 1, 1)\t0.0004627371779594782\n",
      "(1, 1, 0, 1, 1, 0, 0, 0)\t0.0006878997594669234\n",
      "(1, 1, 0, 1, 1, 0, 0, 1)\t0.00023505856176238779\n",
      "(1, 1, 0, 1, 1, 0, 1, 0)\t0.00047320919837038163\n",
      "(1, 1, 0, 1, 1, 0, 1, 1)\t-0.0006878997594669233\n",
      "(1, 1, 0, 1, 1, 1, 0, 0)\t0.0002350585617623884\n",
      "(1, 1, 0, 1, 1, 1, 0, 1)\t-0.0004285623532360848\n",
      "(1, 1, 0, 1, 1, 1, 1, 0)\t-0.0006878997594669227\n",
      "(1, 1, 0, 1, 1, 1, 1, 1)\t-0.0002350585617623886\n",
      "(1, 1, 1, 0, 0, 0, 0, 0)\t0.00016119440659544641\n",
      "(1, 1, 1, 0, 0, 0, 0, 1)\t-0.0003448095394254426\n",
      "(1, 1, 1, 0, 0, 0, 1, 0)\t-0.0004627371779594775\n",
      "(1, 1, 1, 0, 0, 0, 1, 1)\t-0.00016119440659544617\n",
      "(1, 1, 1, 0, 0, 1, 0, 0)\t0.0006878997594669234\n",
      "(1, 1, 1, 0, 0, 1, 0, 1)\t0.00047320919837038163\n",
      "(1, 1, 1, 0, 0, 1, 1, 0)\t0.00023505856176238779\n",
      "(1, 1, 1, 0, 0, 1, 1, 1)\t-0.0006878997594669233\n",
      "(1, 1, 1, 0, 1, 0, 0, 0)\t-0.0004627371779594782\n",
      "(1, 1, 1, 0, 1, 0, 0, 1)\t-0.00016119440659544758\n",
      "(1, 1, 1, 0, 1, 0, 1, 0)\t-0.0003860809630412067\n",
      "(1, 1, 1, 0, 1, 0, 1, 1)\t0.0004627371779594782\n",
      "(1, 1, 1, 0, 1, 1, 0, 0)\t0.0002350585617623884\n",
      "(1, 1, 1, 0, 1, 1, 0, 1)\t-0.0006878997594669227\n",
      "(1, 1, 1, 0, 1, 1, 1, 0)\t-0.0004285623532360848\n",
      "(1, 1, 1, 0, 1, 1, 1, 1)\t-0.0002350585617623886\n",
      "(1, 1, 1, 1, 0, 0, 0, 0)\t0.33462039091473345\n",
      "(1, 1, 1, 1, 0, 0, 0, 1)\t-1.8647237734870526e-05\n",
      "(1, 1, 1, 1, 0, 0, 1, 0)\t-1.8647237734870526e-05\n",
      "(1, 1, 1, 1, 0, 0, 1, 1)\t0.16637055545451399\n",
      "(1, 1, 1, 1, 0, 1, 0, 0)\t-1.8647237734870526e-05\n",
      "(1, 1, 1, 1, 0, 1, 0, 1)\t-0.00020479619994894432\n",
      "(1, 1, 1, 1, 0, 1, 1, 0)\t0.16637055545451399\n",
      "(1, 1, 1, 1, 0, 1, 1, 1)\t-0.0006873279457801484\n",
      "(1, 1, 1, 1, 1, 0, 0, 0)\t-1.8647237734870526e-05\n",
      "(1, 1, 1, 1, 1, 0, 0, 1)\t0.16637055545451399\n",
      "(1, 1, 1, 1, 1, 0, 1, 0)\t-0.00020479619994894432\n",
      "(1, 1, 1, 1, 1, 0, 1, 1)\t-0.0006873279457801484\n",
      "(1, 1, 1, 1, 1, 1, 0, 0)\t0.16637055545451399\n",
      "(1, 1, 1, 1, 1, 1, 0, 1)\t-0.0006873279457801484\n",
      "(1, 1, 1, 1, 1, 1, 1, 0)\t-0.0006873279457801484\n",
      "(1, 1, 1, 1, 1, 1, 1, 1)\t0.332638498176237\n"
     ]
    }
   ],
   "source": [
    "indexed_qubit_t = qubit_t.reshape((2,2,2,2,2,2,2,2))\n",
    "it = numpy.nditer(indexed_qubit_t, flags=['multi_index'])\n",
    "for x in it:\n",
    "    print(f\"{it.multi_index}\\t{x}\")"
   ]
  },
  {
   "cell_type": "code",
   "execution_count": 7,
   "id": "ad7ec3cd",
   "metadata": {},
   "outputs": [],
   "source": [
    "zeroed_indexed_qubit_t = indexed_qubit_t.copy()\n",
    "zeroed_indexed_qubit_t[numpy.abs(zeroed_indexed_qubit_t)<1e-2] = 0"
   ]
  },
  {
   "cell_type": "code",
   "execution_count": 8,
   "id": "10e9fcee",
   "metadata": {},
   "outputs": [
    {
     "data": {
      "text/plain": [
       "array([[2, 3],\n",
       "       [5, 7]])"
      ]
     },
     "execution_count": 8,
     "metadata": {},
     "output_type": "execute_result"
    }
   ],
   "source": [
    "rho = numpy.array([2,3,5,7]).reshape((2,2))\n",
    "rho_estimator = numpy.einsum('ababdcef,cd->ef', zeroed_indexed_qubit_t, rho) * 3 - numpy.trace(rho) * numpy.eye(2)\n",
    "rho"
   ]
  },
  {
   "cell_type": "code",
   "execution_count": 9,
   "id": "f5362e32",
   "metadata": {},
   "outputs": [
    {
     "data": {
      "text/plain": [
       "array([[1.99111666, 2.99467   ],\n",
       "       [4.99111666, 7.00888334]])"
      ]
     },
     "execution_count": 9,
     "metadata": {},
     "output_type": "execute_result"
    }
   ],
   "source": [
    "rho_estimator"
   ]
  },
  {
   "cell_type": "code",
   "execution_count": null,
   "id": "4b067611",
   "metadata": {},
   "outputs": [],
   "source": []
  }
 ],
 "metadata": {
  "kernelspec": {
   "display_name": "Python 3 (ipykernel)",
   "language": "python",
   "name": "python3"
  },
  "language_info": {
   "codemirror_mode": {
    "name": "ipython",
    "version": 3
   },
   "file_extension": ".py",
   "mimetype": "text/x-python",
   "name": "python",
   "nbconvert_exporter": "python",
   "pygments_lexer": "ipython3",
   "version": "3.10.6"
  }
 },
 "nbformat": 4,
 "nbformat_minor": 5
}
