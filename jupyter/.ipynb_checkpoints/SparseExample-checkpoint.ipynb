{
 "cells": [
  {
   "cell_type": "code",
   "execution_count": 1,
   "id": "a7c8b341",
   "metadata": {},
   "outputs": [],
   "source": [
    "import numpy\n",
    "import qubit_matmul\n",
    "import scipy.sparse"
   ]
  },
  {
   "cell_type": "code",
   "execution_count": 2,
   "id": "a17bfb43",
   "metadata": {},
   "outputs": [],
   "source": [
    "x = numpy.array([0.0]*16)\n",
    "y = x.copy()\n",
    "x[0] = 1.0"
   ]
  },
  {
   "cell_type": "code",
   "execution_count": 3,
   "id": "ef551ed9",
   "metadata": {},
   "outputs": [],
   "source": [
    "mat1 = qubit_matmul.TensorMatf64([0], [0.0, 1.0, 1.0, 0.0])\n",
    "mat2 = qubit_matmul.TensorMatf64([1], [0.0, 1.0, 1.0, 0.0])\n",
    "mat3 = qubit_matmul.TensorMatf64([2], [0.0, 1.0, 1.0, 0.0])"
   ]
  },
  {
   "cell_type": "code",
   "execution_count": 4,
   "id": "6accab67",
   "metadata": {},
   "outputs": [
    {
     "data": {
      "text/plain": [
       "array([0., 0., 0., 0., 0., 0., 0., 0., 1., 0., 0., 0., 0., 0., 0., 0.])"
      ]
     },
     "execution_count": 4,
     "metadata": {},
     "output_type": "execute_result"
    }
   ],
   "source": [
    "mat1.apply(x, y)\n",
    "y"
   ]
  },
  {
   "cell_type": "code",
   "execution_count": 5,
   "id": "6f443e75",
   "metadata": {},
   "outputs": [],
   "source": [
    "nmat = (mat1 + mat2 + mat3) @ (mat1 + mat2 + mat3)"
   ]
  },
  {
   "cell_type": "code",
   "execution_count": 6,
   "id": "95d5ff65",
   "metadata": {},
   "outputs": [
    {
     "data": {
      "text/plain": [
       "array([3., 0., 0., 0., 0., 0., 2., 0., 0., 0., 2., 0., 2., 0., 0., 0.])"
      ]
     },
     "execution_count": 6,
     "metadata": {},
     "output_type": "execute_result"
    }
   ],
   "source": [
    "nmat.apply(x)"
   ]
  },
  {
   "cell_type": "code",
   "execution_count": 7,
   "id": "82dc88d1",
   "metadata": {},
   "outputs": [
    {
     "data": {
      "text/plain": [
       "(array([0, 1], dtype=uint64), array([1, 0], dtype=uint64), array([1., 1.]))"
      ]
     },
     "execution_count": 7,
     "metadata": {},
     "output_type": "execute_result"
    }
   ],
   "source": [
    "mat1.make_sparse(1)"
   ]
  },
  {
   "cell_type": "code",
   "execution_count": 8,
   "id": "423f18ee",
   "metadata": {},
   "outputs": [
    {
     "data": {
      "text/plain": [
       "matrix([[0., 0., 1., 0.],\n",
       "        [0., 0., 0., 1.],\n",
       "        [1., 0., 0., 0.],\n",
       "        [0., 1., 0., 0.]])"
      ]
     },
     "execution_count": 8,
     "metadata": {},
     "output_type": "execute_result"
    }
   ],
   "source": [
    "rows, cols, vals = mat1.make_sparse(2)\n",
    "m = scipy.sparse.csc_matrix((vals, (rows, cols)))\n",
    "m.todense()"
   ]
  },
  {
   "cell_type": "code",
   "execution_count": 9,
   "id": "d740ead8",
   "metadata": {},
   "outputs": [
    {
     "data": {
      "text/plain": [
       "matrix([[0., 1., 0., 0.],\n",
       "        [1., 0., 0., 0.],\n",
       "        [0., 0., 0., 1.],\n",
       "        [0., 0., 1., 0.]])"
      ]
     },
     "execution_count": 9,
     "metadata": {},
     "output_type": "execute_result"
    }
   ],
   "source": [
    "rows, cols, vals = mat2.make_sparse(2)\n",
    "m = scipy.sparse.csc_matrix((vals, (rows, cols)))\n",
    "m.todense()"
   ]
  },
  {
   "cell_type": "code",
   "execution_count": 13,
   "id": "7bbe21ac",
   "metadata": {},
   "outputs": [
    {
     "data": {
      "text/plain": [
       "matrix([[3., 0., 0., 2., 0., 2., 2., 0.],\n",
       "        [0., 3., 2., 0., 2., 0., 0., 2.],\n",
       "        [0., 2., 3., 0., 2., 0., 0., 2.],\n",
       "        [2., 0., 0., 3., 0., 2., 2., 0.],\n",
       "        [0., 2., 2., 0., 3., 0., 0., 2.],\n",
       "        [2., 0., 0., 2., 0., 3., 2., 0.],\n",
       "        [2., 0., 0., 2., 0., 2., 3., 0.],\n",
       "        [0., 2., 2., 0., 2., 0., 0., 3.]])"
      ]
     },
     "execution_count": 13,
     "metadata": {},
     "output_type": "execute_result"
    }
   ],
   "source": [
    "rows, cols, vals = nmat.make_sparse(3)\n",
    "m = scipy.sparse.csc_matrix((vals, (rows, cols)))\n",
    "m.todense()"
   ]
  },
  {
   "cell_type": "code",
   "execution_count": null,
   "id": "2c8e490a",
   "metadata": {},
   "outputs": [],
   "source": []
  }
 ],
 "metadata": {
  "kernelspec": {
   "display_name": "Python 3 (ipykernel)",
   "language": "python",
   "name": "python3"
  },
  "language_info": {
   "codemirror_mode": {
    "name": "ipython",
    "version": 3
   },
   "file_extension": ".py",
   "mimetype": "text/x-python",
   "name": "python",
   "nbconvert_exporter": "python",
   "pygments_lexer": "ipython3",
   "version": "3.10.6"
  }
 },
 "nbformat": 4,
 "nbformat_minor": 5
}
