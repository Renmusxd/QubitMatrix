{
 "cells": [
  {
   "cell_type": "code",
   "execution_count": 1,
   "id": "dc6abd48",
   "metadata": {},
   "outputs": [],
   "source": [
    "import numpy\n",
    "import qubit_matmul\n",
    "from matplotlib import pyplot"
   ]
  },
  {
   "cell_type": "markdown",
   "id": "f5e15fe6",
   "metadata": {},
   "source": [
    "# Single Qubit"
   ]
  },
  {
   "cell_type": "code",
   "execution_count": 61,
   "id": "0ace516d",
   "metadata": {},
   "outputs": [],
   "source": [
    "N = 1\n",
    "D = 1 << N\n",
    "\n",
    "v = numpy.array([[1.0, 0.0, 0.0, 1.0]])\n",
    "\n",
    "mmat = (v.T @ v).flatten()\n",
    "\n",
    "def lineline(i,n=N):\n",
    "    return qubit_matmul.TensorMatf64([i,i+1], numpy.eye(1 << (2*n)).flatten()).get_dense(2*n)\n",
    "def capcap(i,n=N):\n",
    "    return qubit_matmul.TensorMatf64([i,i+1], mmat).get_dense(2*n)\n",
    "\n",
    "m = (lineline(0) + capcap(0))/(D+1)"
   ]
  },
  {
   "cell_type": "code",
   "execution_count": 62,
   "id": "60ced611",
   "metadata": {},
   "outputs": [
    {
     "data": {
      "text/plain": [
       "array([[0.66666667, 0.        , 0.        , 0.33333333],\n",
       "       [0.        , 0.33333333, 0.        , 0.        ],\n",
       "       [0.        , 0.        , 0.33333333, 0.        ],\n",
       "       [0.33333333, 0.        , 0.        , 0.66666667]])"
      ]
     },
     "execution_count": 62,
     "metadata": {},
     "output_type": "execute_result"
    }
   ],
   "source": [
    "m"
   ]
  },
  {
   "cell_type": "code",
   "execution_count": 63,
   "id": "ac09f9fc",
   "metadata": {},
   "outputs": [
    {
     "data": {
      "text/plain": [
       "array([[ 2.,  0.,  0., -1.],\n",
       "       [ 0.,  3.,  0.,  0.],\n",
       "       [ 0.,  0.,  3.,  0.],\n",
       "       [-1.,  0.,  0.,  2.]])"
      ]
     },
     "execution_count": 63,
     "metadata": {},
     "output_type": "execute_result"
    }
   ],
   "source": [
    "im = (D+1)*lineline(0) - capcap(0)\n",
    "im"
   ]
  },
  {
   "cell_type": "code",
   "execution_count": 64,
   "id": "8713cfc4",
   "metadata": {},
   "outputs": [
    {
     "data": {
      "text/plain": [
       "array([[1., 0., 0., 0.],\n",
       "       [0., 1., 0., 0.],\n",
       "       [0., 0., 1., 0.],\n",
       "       [0., 0., 0., 1.]])"
      ]
     },
     "execution_count": 64,
     "metadata": {},
     "output_type": "execute_result"
    }
   ],
   "source": [
    "m @ im"
   ]
  },
  {
   "cell_type": "markdown",
   "id": "24dec563",
   "metadata": {},
   "source": [
    "# Two Qubit Gates with shared Qubit Env"
   ]
  },
  {
   "cell_type": "code",
   "execution_count": 121,
   "id": "042e0f40",
   "metadata": {},
   "outputs": [],
   "source": [
    "N = 2\n",
    "D = 1 << N\n",
    "\n",
    "vv = numpy.kron(v,v)\n",
    "mmvvmat = (vv.T @ vv).flatten()\n",
    "\n",
    "def lineline(i,j,n=N):\n",
    "    return qubit_matmul.TensorMatf64([2*i,2*i+1,2*j,2*j+1], numpy.eye(1 << (2*N)).flatten()).get_dense(2*n)\n",
    "def capcap(i,j,n=N):\n",
    "    return qubit_matmul.TensorMatf64([2*i,2*i+1,2*j,2*j+1], mmvvmat).get_dense(2*n)"
   ]
  },
  {
   "cell_type": "code",
   "execution_count": 123,
   "id": "6e4e8b16",
   "metadata": {},
   "outputs": [
    {
     "data": {
      "text/plain": [
       "array([[0.2 , 0.  , 0.  , ..., 0.  , 0.  , 0.08],\n",
       "       [0.  , 0.08, 0.  , ..., 0.04, 0.  , 0.  ],\n",
       "       [0.  , 0.  , 0.08, ..., 0.  , 0.04, 0.  ],\n",
       "       ...,\n",
       "       [0.  , 0.04, 0.  , ..., 0.08, 0.  , 0.  ],\n",
       "       [0.  , 0.  , 0.04, ..., 0.  , 0.08, 0.  ],\n",
       "       [0.08, 0.  , 0.  , ..., 0.  , 0.  , 0.2 ]])"
      ]
     },
     "execution_count": 123,
     "metadata": {},
     "output_type": "execute_result"
    }
   ],
   "source": [
    "ma = (lineline(0,1,n=3) + capcap(0,1,n=3))/(D + 1)\n",
    "mb = (lineline(0,2,n=3) + capcap(0,2,n=3))/(D + 1)\n",
    "\n",
    "ma @ mb"
   ]
  },
  {
   "cell_type": "code",
   "execution_count": 124,
   "id": "7439bad4",
   "metadata": {},
   "outputs": [
    {
     "data": {
      "text/plain": [
       "array([[17.,  0.,  0., ...,  0.,  0.,  2.],\n",
       "       [ 0., 20.,  0., ..., -5.,  0.,  0.],\n",
       "       [ 0.,  0., 20., ...,  0., -5.,  0.],\n",
       "       ...,\n",
       "       [ 0., -5.,  0., ..., 20.,  0.,  0.],\n",
       "       [ 0.,  0., -5., ...,  0., 20.,  0.],\n",
       "       [ 2.,  0.,  0., ...,  0.,  0., 17.]])"
      ]
     },
     "execution_count": 124,
     "metadata": {},
     "output_type": "execute_result"
    }
   ],
   "source": [
    "numpy.linalg.inv(ma @ mb)"
   ]
  },
  {
   "cell_type": "code",
   "execution_count": 125,
   "id": "c22c24b2",
   "metadata": {},
   "outputs": [
    {
     "data": {
      "text/plain": [
       "array([[17.,  0.,  0., ...,  0.,  0.,  2.],\n",
       "       [ 0., 20.,  0., ..., -5.,  0.,  0.],\n",
       "       [ 0.,  0., 20., ...,  0., -5.,  0.],\n",
       "       ...,\n",
       "       [ 0., -5.,  0., ..., 20.,  0.,  0.],\n",
       "       [ 0.,  0., -5., ...,  0., 20.,  0.],\n",
       "       [ 2.,  0.,  0., ...,  0.,  0., 17.]])"
      ]
     },
     "execution_count": 125,
     "metadata": {},
     "output_type": "execute_result"
    }
   ],
   "source": [
    "((D+1)*lineline(0,1,n=3) - capcap(0,1,n=3)) @ ((D+1)*lineline(0,2,n=3) - capcap(0,2,n=3))"
   ]
  },
  {
   "cell_type": "markdown",
   "id": "1607f6a3",
   "metadata": {},
   "source": [
    "# Two Qubit Number Conservation"
   ]
  },
  {
   "cell_type": "code",
   "execution_count": 126,
   "id": "9e32879b",
   "metadata": {},
   "outputs": [
    {
     "data": {
      "text/plain": [
       "array([[1., 0., 0., 1.],\n",
       "       [0., 0., 0., 0.],\n",
       "       [0., 0., 0., 0.],\n",
       "       [1., 0., 0., 1.]])"
      ]
     },
     "execution_count": 126,
     "metadata": {},
     "output_type": "execute_result"
    }
   ],
   "source": [
    "#Single qubit mat\n",
    "v = numpy.array([[1.,0.,0.,1.]])\n",
    "mv1 = v.T @ v\n",
    "mv1"
   ]
  },
  {
   "cell_type": "code",
   "execution_count": null,
   "id": "c1ec65ee",
   "metadata": {},
   "outputs": [],
   "source": []
  }
 ],
 "metadata": {
  "kernelspec": {
   "display_name": "Python 3 (ipykernel)",
   "language": "python",
   "name": "python3"
  },
  "language_info": {
   "codemirror_mode": {
    "name": "ipython",
    "version": 3
   },
   "file_extension": ".py",
   "mimetype": "text/x-python",
   "name": "python",
   "nbconvert_exporter": "python",
   "pygments_lexer": "ipython3",
   "version": "3.10.6"
  }
 },
 "nbformat": 4,
 "nbformat_minor": 5
}
